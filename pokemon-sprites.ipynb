{
 "cells": [
  {
   "cell_type": "markdown",
   "metadata": {},
   "source": [
    "# pokemon-sprites: generate high-resolution sprites from GEN 1\n",
    "### Jack Black\n",
    "### Dec. 28th, 2018"
   ]
  },
  {
   "cell_type": "markdown",
   "metadata": {},
   "source": [
    "## 1. Codes"
   ]
  },
  {
   "cell_type": "code",
   "execution_count": 1,
   "metadata": {
    "collapsed": true
   },
   "outputs": [],
   "source": [
    "from scipy import misc\n",
    "import matplotlib.pyplot as plt"
   ]
  },
  {
   "cell_type": "code",
   "execution_count": 6,
   "metadata": {
    "collapsed": true
   },
   "outputs": [],
   "source": [
    "# filepath where all sprites are archived\n",
    "path = \"./pokemon-sprites/\""
   ]
  },
  {
   "cell_type": "code",
   "execution_count": 7,
   "metadata": {},
   "outputs": [],
   "source": [
    "# read pokemon's name from txt file\n",
    "\n",
    "with open(\"pokemon-list.txt\") as f:\n",
    "    pokemon_list = f.readlines()\n",
    "pokemon_list = [x.strip() for x in pokemon_list] "
   ]
  },
  {
   "cell_type": "code",
   "execution_count": 63,
   "metadata": {
    "collapsed": true
   },
   "outputs": [],
   "source": [
    "# download sprites dataset from internet (format: png)\n",
    "# only need to run once at the first time\n",
    "\n",
    "import requests\n",
    "url_pre = \"https://img.pokemondb.net/sprites/sun-moon/icon/\"\n",
    "for pokemon in pokemon_list:\n",
    "    filename = pokemon + \".png\"\n",
    "    url = url_pre + filename\n",
    "    r = requests.get(url, allow_redirects=True)\n",
    "    open(path + filename, 'wb').write(r.content)"
   ]
  },
  {
   "cell_type": "code",
   "execution_count": 13,
   "metadata": {
    "collapsed": true
   },
   "outputs": [],
   "source": [
    "# two functions to show high-resolution sprites\n",
    "\n",
    "def show_pokemon_name(pokemon_name):\n",
    "    '''\n",
    "        Show pokemon sprites with given name. Notice that lower case should be used.\n",
    "    '''\n",
    "    sprite = misc.imread(path + pokemon_name + \".png\")\n",
    "    plt.figure()\n",
    "    plt.imshow(sprite)\n",
    "    plt.show()\n",
    "    return\n",
    "\n",
    "def show_pokemon_index(pokemon_index, pokemon_list):\n",
    "    '''\n",
    "        Show pokemon sprites with given index.\n",
    "    '''\n",
    "    pokemon_name = pokemon_list[pokemon_index - 1]\n",
    "    show_pokemon_name(pokemon_name)\n",
    "    return"
   ]
  },
  {
   "cell_type": "markdown",
   "metadata": {},
   "source": [
    "## 2. Examples"
   ]
  },
  {
   "cell_type": "code",
   "execution_count": 9,
   "metadata": {},
   "outputs": [
    {
     "data": {
      "image/png": "[encoded data removed]",
      "text/plain": [
       "<matplotlib.figure.Figure at 0x26fa3c51e80>"
      ]
     },
     "metadata": {},
     "output_type": "display_data"
    }
   ],
   "source": [
    "show_pokemon_name(\"mew\")"
   ]
  },
  {
   "cell_type": "code",
   "execution_count": 20,
   "metadata": {},
   "outputs": [
    {
     "data": {
      "image/png": "[encoded data removed]",
      "text/plain": [
       "<matplotlib.figure.Figure at 0x26fa402d4e0>"
      ]
     },
     "metadata": {},
     "output_type": "display_data"
    }
   ],
   "source": [
    "show_pokemon_index(143, pokemon_list)"
   ]
  },
  {
   "cell_type": "code",
   "execution_count": null,
   "metadata": {
    "collapsed": true
   },
   "outputs": [],
   "source": []
  }
 ],
 "metadata": {
  "kernelspec": {
   "display_name": "Python 3",
   "language": "python",
   "name": "python3"
  },
  "language_info": {
   "codemirror_mode": {
    "name": "ipython",
    "version": 3
   },
   "file_extension": ".py",
   "mimetype": "text/x-python",
   "name": "python",
   "nbconvert_exporter": "python",
   "pygments_lexer": "ipython3",
   "version": "3.6.3"
  }
 },
 "nbformat": 4,
 "nbformat_minor": 2
}
